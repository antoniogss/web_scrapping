{
  "nbformat": 4,
  "nbformat_minor": 0,
  "metadata": {
    "colab": {
      "provenance": [],
      "authorship_tag": "ABX9TyMOgMNzzc+uniidZEUiBQK+",
      "include_colab_link": true
    },
    "kernelspec": {
      "name": "python3",
      "display_name": "Python 3"
    },
    "language_info": {
      "name": "python"
    }
  },
  "cells": [
    {
      "cell_type": "markdown",
      "metadata": {
        "id": "view-in-github",
        "colab_type": "text"
      },
      "source": [
        "<a href=\"https://colab.research.google.com/github/antoniogss/web_scrapping/blob/main/all_news_g1.ipynb\" target=\"_parent\"><img src=\"https://colab.research.google.com/assets/colab-badge.svg\" alt=\"Open In Colab\"/></a>"
      ]
    },
    {
      "cell_type": "code",
      "execution_count": 58,
      "metadata": {
        "id": "viaBYZstX_kD"
      },
      "outputs": [],
      "source": [
        "import requests as rq\n",
        "from bs4 import BeautifulSoup as bs\n",
        "import pandas as pd"
      ]
    },
    {
      "cell_type": "code",
      "source": [
        "response = rq.get('https://g1.globo.com/')\n",
        "content = response.content\n",
        "site  = bs(content, 'html.parser')"
      ],
      "metadata": {
        "id": "EyCxnWzrYHh3"
      },
      "execution_count": 59,
      "outputs": []
    },
    {
      "cell_type": "code",
      "source": [
        "# HTML code - all news\n",
        "posts = site.findAll('div',attrs={'class':'feed-post-body'})"
      ],
      "metadata": {
        "id": "t3ZnNbkNruKL"
      },
      "execution_count": 60,
      "outputs": []
    },
    {
      "cell_type": "code",
      "source": [
        "# Static content only\n",
        "\n",
        "for post in posts:\n",
        "\n",
        "  # Tittle\n",
        "  tittle = post.find('a',attrs={'class':'feed-post-link'})\n",
        "  print(tittle.text)\n",
        "\n",
        "  # Subtittle\n",
        "  subtittle = post.find('div',attrs={'class':'feed-post-body-resumo'})\n",
        "\n",
        "  if (subtittle):\n",
        "    print(subtittle.text)\n",
        "\n",
        "  print(tittle['href'])\n",
        "  \n",
        "  print()"
      ],
      "metadata": {
        "colab": {
          "base_uri": "https://localhost:8080/"
        },
        "id": "0oJH22KssHc6",
        "outputId": "ea99d560-95a7-4f8e-874b-4a94e7d45b74"
      },
      "execution_count": 61,
      "outputs": [
        {
          "output_type": "stream",
          "name": "stdout",
          "text": [
            "Alckmin cobra relatório anual de desmatamento: 'Números já existem'\n",
            "Governo Bolsonaro só divulgou dados no ano passado após a COP, e omissão foi criticada.\n",
            "https://g1.globo.com/meio-ambiente/noticia/2022/11/14/alckmin-cobra-do-governo-bolsonaro-divulgacao-de-dados-sobre-desmatamento-da-amazonia-esses-numeros-ja-existem.ghtml\n",
            "\n",
            "Tesouro propõe flexibilizar teto e liberar gastos acima da inflação\n",
            "Assunto voltou às discussões após governo eleito propor tirar Bolsa Família da regra.\n",
            "https://g1.globo.com/economia/noticia/2022/11/14/tesouro-propoe-flexibilizar-teto-de-gastos-e-permitir-que-despesa-do-governo-cresca-acima-da-inflacao.ghtml\n",
            "\n",
            "Nova variante está ligada a repique de Covid no Amazonas, diz Fiocruz\n",
            "https://g1.globo.com/saude/coronavirus/noticia/2022/11/14/fiocruz-identifica-nova-variante-da-omicron-no-amazonas-a-be9.ghtml\n",
            "\n",
            "Funcionária que acusou cliente negra de furto admite 'abordagem indevida' \n",
            "Demitida, vigilante da Renner negou à polícia ter empurrado a mulher na loja.\n",
            "https://g1.globo.com/rj/rio-de-janeiro/noticia/2022/11/14/funcionaria-que-acusou-mulher-negra-de-furto-no-rj-confirma-que-fez-abordagem-indevida.ghtml\n",
            "\n",
            "Google terá que pagar US$ 400 milhões por rastrear usuários, diz agência\n",
            "Empresa foi processada e fechou acordo que seria o maior já feito nos EUA.\n",
            "https://g1.globo.com/tecnologia/noticia/2022/11/14/google-tera-que-pagar-us-400-milhoes-em-processo-nos-eua-por-rastrear-usuarios-diz-agencia.ghtml\n",
            "\n",
            "Janja quer cachorrinha Resistência na posse: 'Nosso amuletinho'\n",
            "Cadelinha foi adotada quando Lula estava preso. \n",
            "https://g1.globo.com/fantastico/noticia/2022/11/14/janja-quer-levar-cachorrinha-resistencia-para-o-dia-da-posse-ela-e-nosso-amuletinho.ghtml\n",
            "\n",
            "Abandonada, filha é reencontrada pela família após meio século\n",
            "Vídeo mostra momento do reencontro após 51 anos.\n",
            "https://g1.globo.com/ce/ceara/cariri/noticia/2022/11/14/familia-cearense-reencontra-irma-apos-51-anos-de-buscas.ghtml\n",
            "\n"
          ]
        }
      ]
    },
    {
      "cell_type": "code",
      "source": [
        "post_list = [] #list of lists\n",
        "\n",
        "for post in posts:\n",
        "\n",
        "  # Tittle\n",
        "  tittle = post.find('a',attrs={'class':'feed-post-link'})\n",
        "  \n",
        "  # Subtittle\n",
        "  subtittle = post.find('div',attrs={'class':'feed-post-body-resumo'})\n",
        "\n",
        "  if (subtittle):\n",
        "    post_list.append([tittle.text,\n",
        "                      subtittle.text,\n",
        "                     tittle['href']]\n",
        "                    )\n",
        "  else:\n",
        "    post_list.append([tittle.text,\n",
        "                      '',\n",
        "                     tittle['href']]\n",
        "                    )\n",
        "    \n",
        "news = pd.DataFrame(post_list, columns=['tittle','subtitle','link'])\n",
        "print(news)"
      ],
      "metadata": {
        "colab": {
          "base_uri": "https://localhost:8080/"
        },
        "id": "s8CN8-Z31tLr",
        "outputId": "959b7f8b-bdf2-40b8-f772-5dc1ad8ac514"
      },
      "execution_count": 62,
      "outputs": [
        {
          "output_type": "stream",
          "name": "stdout",
          "text": [
            "                                              tittle  \\\n",
            "0  Alckmin cobra relatório anual de desmatamento:...   \n",
            "1  Tesouro propõe flexibilizar teto e liberar gas...   \n",
            "2  Nova variante está ligada a repique de Covid n...   \n",
            "3  Funcionária que acusou cliente negra de furto ...   \n",
            "4  Google terá que pagar US$ 400 milhões por rast...   \n",
            "5  Janja quer cachorrinha Resistência na posse: '...   \n",
            "6  Abandonada, filha é reencontrada pela família ...   \n",
            "\n",
            "                                            subtitle  \\\n",
            "0  Governo Bolsonaro só divulgou dados no ano pas...   \n",
            "1  Assunto voltou às discussões após governo elei...   \n",
            "2                                                      \n",
            "3  Demitida, vigilante da Renner negou à polícia ...   \n",
            "4  Empresa foi processada e fechou acordo que ser...   \n",
            "5   Cadelinha foi adotada quando Lula estava preso.    \n",
            "6   Vídeo mostra momento do reencontro após 51 anos.   \n",
            "\n",
            "                                                link  \n",
            "0  https://g1.globo.com/meio-ambiente/noticia/202...  \n",
            "1  https://g1.globo.com/economia/noticia/2022/11/...  \n",
            "2  https://g1.globo.com/saude/coronavirus/noticia...  \n",
            "3  https://g1.globo.com/rj/rio-de-janeiro/noticia...  \n",
            "4  https://g1.globo.com/tecnologia/noticia/2022/1...  \n",
            "5  https://g1.globo.com/fantastico/noticia/2022/1...  \n",
            "6  https://g1.globo.com/ce/ceara/cariri/noticia/2...  \n"
          ]
        }
      ]
    },
    {
      "cell_type": "code",
      "source": [
        "news.to_excel('g1_news.xlsx',index=False)"
      ],
      "metadata": {
        "id": "BzECnM1I2eEU"
      },
      "execution_count": 63,
      "outputs": []
    }
  ]
}