{
  "nbformat": 4,
  "nbformat_minor": 0,
  "metadata": {
    "colab": {
      "provenance": [],
      "authorship_tag": "ABX9TyMALgP/iei5sLttVUVOYxCJ",
      "include_colab_link": true
    },
    "kernelspec": {
      "name": "python3",
      "display_name": "Python 3"
    },
    "language_info": {
      "name": "python"
    }
  },
  "cells": [
    {
      "cell_type": "markdown",
      "metadata": {
        "id": "view-in-github",
        "colab_type": "text"
      },
      "source": [
        "<a href=\"https://colab.research.google.com/github/antoniogss/web_scrapping/blob/main/mercado_livre.ipynb\" target=\"_parent\"><img src=\"https://colab.research.google.com/assets/colab-badge.svg\" alt=\"Open In Colab\"/></a>"
      ]
    },
    {
      "cell_type": "code",
      "execution_count": 1,
      "metadata": {
        "id": "tRYu6P4a5ccj"
      },
      "outputs": [],
      "source": [
        "import requests as rq\n",
        "from bs4 import BeautifulSoup as bs\n",
        "import pandas as pd"
      ]
    },
    {
      "cell_type": "code",
      "source": [
        "url_base = 'https://lista.mercadolivre.com.br/'\n",
        "product_name = input('What product do you desire? ')\n",
        "response = rq.get(url_base + product_name)\n",
        "site  = bs(response.text, 'html.parser')"
      ],
      "metadata": {
        "colab": {
          "base_uri": "https://localhost:8080/"
        },
        "id": "4VTtoOO2oKOi",
        "outputId": "cee54a71-1e64-42f2-c831-25eba903d5f9"
      },
      "execution_count": 2,
      "outputs": [
        {
          "name": "stdout",
          "output_type": "stream",
          "text": [
            "What product do you desire? tv oled samsung\n"
          ]
        }
      ]
    },
    {
      "cell_type": "markdown",
      "source": [
        "#The first product"
      ],
      "metadata": {
        "id": "RXFjBfXP8iKX"
      }
    },
    {
      "cell_type": "code",
      "source": [
        "# print(site.prettify())"
      ],
      "metadata": {
        "id": "Lr1zupWEq20d"
      },
      "execution_count": 3,
      "outputs": []
    },
    {
      "cell_type": "code",
      "source": [
        "product = site.find('div',attrs={'class':'andes-card andes-card--flat ' +\n",
        "                                 'andes-card--default ui-search-result ' +\n",
        "                                 'shops__cardStyles ui-search-result--core ' +\n",
        "                                 'andes-card--padding-default ' +\n",
        "                                 'andes-card--animated'})"
      ],
      "metadata": {
        "id": "vI7k_bMHto_T"
      },
      "execution_count": 4,
      "outputs": []
    },
    {
      "cell_type": "code",
      "source": [
        "# print(product.prettify())"
      ],
      "metadata": {
        "id": "2bJayzdfu948"
      },
      "execution_count": 5,
      "outputs": []
    },
    {
      "cell_type": "code",
      "source": [
        "tittle = product.find('h2',attrs={'class':'ui-search-item__title ' +\n",
        "                                          'ui-search-item__group__element ' +\n",
        "                                          'shops__items-group-details ' +\n",
        "                                          'shops__item-title'}) "
      ],
      "metadata": {
        "id": "Na-cw7M8wBDI"
      },
      "execution_count": 6,
      "outputs": []
    },
    {
      "cell_type": "code",
      "source": [
        "print('Tittle of the first product:', tittle.text)"
      ],
      "metadata": {
        "colab": {
          "base_uri": "https://localhost:8080/"
        },
        "id": "S3zGlY4Kw5_h",
        "outputId": "1de50893-726f-42d0-bf4d-007763a2b3b9"
      },
      "execution_count": 7,
      "outputs": [
        {
          "output_type": "stream",
          "name": "stdout",
          "text": [
            "Tittle of the first product: Tv 32 Samsung Smart The Frame Qled Full Hd Qn32ls03bbgxz\n"
          ]
        }
      ]
    },
    {
      "cell_type": "code",
      "source": [
        "link = product.find('a',attrs={'class':'ui-search-link'})"
      ],
      "metadata": {
        "id": "31k4nGSpxjTl"
      },
      "execution_count": 8,
      "outputs": []
    },
    {
      "cell_type": "code",
      "source": [
        "print('Link of the first product:', link['href'])"
      ],
      "metadata": {
        "colab": {
          "base_uri": "https://localhost:8080/"
        },
        "id": "5es3Bb0ex0Io",
        "outputId": "34cdf282-e4ce-4b1c-f4f2-e5c48d538ec8"
      },
      "execution_count": 9,
      "outputs": [
        {
          "output_type": "stream",
          "name": "stdout",
          "text": [
            "Link of the first product: https://produto.mercadolivre.com.br/MLB-2889086110-tv-32-samsung-smart-the-frame-qled-full-hd-qn32ls03bbgxz-_JM#position=7&search_layout=grid&type=item&tracking_id=168a0f35-eab7-4b7b-bf62-ee245d3a115b\n"
          ]
        }
      ]
    },
    {
      "cell_type": "code",
      "source": [
        "# Price - no installment\n",
        "\n",
        "price_symbol = product.find('span',attrs={'class':'price-tag-symbol'})\n",
        "price_fraction = product.find('span',attrs={'class':'price-tag-fraction'})\n",
        "decimal_sep = product.find('span',attrs={'class':'price-tag-decimal-separator'})\n",
        "price_cents = product.find('span',attrs={'class':'price-tag-cents'})"
      ],
      "metadata": {
        "id": "ueMDD97v3O8J"
      },
      "execution_count": 10,
      "outputs": []
    },
    {
      "cell_type": "code",
      "source": [
        "print('Price of the first product:',price_symbol.text +\n",
        "                              ' ' +\n",
        "                              price_fraction.text +\n",
        "                              decimal_sep.text +\n",
        "                              price_cents.text)"
      ],
      "metadata": {
        "colab": {
          "base_uri": "https://localhost:8080/"
        },
        "id": "SX20UEbr4or1",
        "outputId": "6fa22596-8c34-4f22-f3a9-2ac622f9ae5b"
      },
      "execution_count": 11,
      "outputs": [
        {
          "output_type": "stream",
          "name": "stdout",
          "text": [
            "Price of the first product: R$ 2.370,76\n"
          ]
        }
      ]
    },
    {
      "cell_type": "markdown",
      "source": [
        "#All the products"
      ],
      "metadata": {
        "id": "P2XIFde08V_i"
      }
    },
    {
      "cell_type": "code",
      "source": [
        "products = site.findAll('div',attrs={'class':'andes-card andes-card--flat ' +\n",
        "                                    'andes-card--default ui-search-result ' +\n",
        "                                    'shops__cardStyles ui-search-result--core ' +\n",
        "                                    'andes-card--padding-default ' +\n",
        "                                    'andes-card--animated'})\n",
        "\n",
        "for product in products:\n",
        "\n",
        "  tittle = product.find('h2',attrs={'class':'ui-search-item__title ' +\n",
        "                                            'ui-search-item__group__element ' +\n",
        "                                            'shops__items-group-details ' +\n",
        "                                            'shops__item-title'}) \n",
        "\n",
        "  link = product.find('a',attrs={'class':'ui-search-link'})\n",
        "  price_symbol = product.find('span',attrs={'class':'price-tag-symbol'})\n",
        "  price_fraction = product.find('span',attrs={'class':'price-tag-fraction'})\n",
        "  decimal_sep = product.find('span',attrs={'class':'price-tag-decimal-separator'})\n",
        "  price_cents = product.find('span',attrs={'class':'price-tag-cents'})\n",
        "\n",
        "  print('Tittle of the product:', tittle.text)\n",
        "  print('Link of the product:', link['href'])\n",
        "\n",
        "  if (price_cents):\n",
        "    print('Price of the product:',price_symbol.text +\n",
        "                                ' ' +\n",
        "                                price_fraction.text +\n",
        "                                decimal_sep.text +\n",
        "                                price_cents.text)\n",
        "  else:\n",
        "    print('Price of the product:',price_symbol.text +\n",
        "                                ' ' +\n",
        "                                price_fraction.text)\n",
        "    \n",
        "  print('\\n')"
      ],
      "metadata": {
        "id": "yCxRb_Ua6kBS"
      },
      "execution_count": null,
      "outputs": []
    },
    {
      "cell_type": "markdown",
      "source": [
        "#Generating an Excel file"
      ],
      "metadata": {
        "id": "Nh094v773GsU"
      }
    },
    {
      "cell_type": "code",
      "source": [
        "products = site.findAll('div',attrs={'class':'andes-card andes-card--flat ' +\n",
        "                                    'andes-card--default ui-search-result ' +\n",
        "                                    'shops__cardStyles ui-search-result--core ' +\n",
        "                                    'andes-card--padding-default ' +\n",
        "                                    'andes-card--animated'})\n",
        "\n",
        "product_list = []\n",
        "\n",
        "for product in products:\n",
        "\n",
        "  tittle = product.find('h2',attrs={'class':'ui-search-item__title ' +\n",
        "                                            'ui-search-item__group__element ' +\n",
        "                                            'shops__items-group-details ' +\n",
        "                                            'shops__item-title'}) \n",
        "\n",
        "  link = product.find('a',attrs={'class':'ui-search-link'})\n",
        "  price_symbol = product.find('span',attrs={'class':'price-tag-symbol'})\n",
        "  price_fraction = product.find('span',attrs={'class':'price-tag-fraction'})\n",
        "  decimal_sep = product.find('span',attrs={'class':'price-tag-decimal-separator'})\n",
        "  price_cents = product.find('span',attrs={'class':'price-tag-cents'})\n",
        "\n",
        "  \n",
        "  if (price_cents):\n",
        "\n",
        "    price_a = (price_symbol.text +\n",
        "               ' ' +\n",
        "               price_fraction.text +\n",
        "               decimal_sep.text +\n",
        "               price_cents.text        \n",
        "              )\n",
        "    \n",
        "    product_list.append([tittle.text,\n",
        "                         link['href'],\n",
        "                         price_a])\n",
        "\n",
        "  else:\n",
        "    price_b = (price_symbol.text +\n",
        "               ' ' +\n",
        "               price_fraction.text       \n",
        "              )\n",
        "    \n",
        "    product_list.append([tittle.text,\n",
        "                         link['href'],\n",
        "                         price_b])\n",
        "\n",
        "    \n",
        "products = pd.DataFrame(product_list, columns=['tittle',\n",
        "                                               'link',\n",
        "                                               'price'])\n",
        "\n",
        "products.head(20)"
      ],
      "metadata": {
        "colab": {
          "base_uri": "https://localhost:8080/",
          "height": 676
        },
        "id": "Q_pq-BxUzeY7",
        "outputId": "79adcd3a-8327-484d-b19b-413c6f6b84bf"
      },
      "execution_count": 19,
      "outputs": [
        {
          "output_type": "execute_result",
          "data": {
            "text/plain": [
              "                                               tittle  \\\n",
              "0   Tv 32 Samsung Smart The Frame Qled Full Hd Qn3...   \n",
              "1   Tv 43 Samsung Smart Gaming Neo Qlad 4k Qn43qn9...   \n",
              "2              Tv 55 Samsung Smart Gaming Neo Qled 4k   \n",
              "3   Tv 32 Samsung Smart The Frame Qled Full Hd Qn3...   \n",
              "4   Tv 43 Samsung Smart Gaming Neo Qlad 4k Qn43qn9...   \n",
              "5              Tv 55 Samsung Smart Gaming Neo Qled 4k   \n",
              "6    Smart TV Samsung BET-B LH32BETBLGGXZD LED HD 32\"   \n",
              "7   Smart TV Samsung BET-M LH43BETMLGGXZD LED Full...   \n",
              "8          Smart TV Samsung UN32T4300AGXZD LED HD 32\"   \n",
              "9   Smart TV Samsung Series 5 UN43T5300AGXZD LED F...   \n",
              "10  Smart Tv Samsung 32 Hd Wi-fi Hdmi Usb Lh32betb...   \n",
              "11  Smart Tv Samsung 43 Fdh Hdmi Usb Wi-fi Lh43bet...   \n",
              "12  Smart Tv Led 43 Polegadas Full Hd Samsung Hdr ...   \n",
              "13  Smart Tv Led  32'' Hd Samsung 32t4300 2 Hdmi 1...   \n",
              "14  Smart Tv Samsung 43 Fdh Hdmi Usb Wi-fi Lh43bet...   \n",
              "15  Smart Tv 32 Polegadas Samsung Lh32betblggxzd W...   \n",
              "16  Smart Tv Samsung 43 Polegadas Full Hd Hdr Un43...   \n",
              "17  Smart Tv Led 43  Samsung Lh43betmlggxzd 2hdmi ...   \n",
              "18  Smart Tv 32'' Samsung Series 5 Lh32betblggxzd ...   \n",
              "19  Smart Tv Samsung Led Full Hd  43 Netflix Un43t...   \n",
              "\n",
              "                                                 link        price  \n",
              "0   https://produto.mercadolivre.com.br/MLB-288908...  R$ 2.370,76  \n",
              "1   https://produto.mercadolivre.com.br/MLB-290730...  R$ 4.690,99  \n",
              "2   https://produto.mercadolivre.com.br/MLB-290731...  R$ 7.560,99  \n",
              "3   https://produto.mercadolivre.com.br/MLB-288905...  R$ 2.450,99  \n",
              "4   https://produto.mercadolivre.com.br/MLB-290727...  R$ 4.550,11  \n",
              "5   https://produto.mercadolivre.com.br/MLB-290732...  R$ 7.320,66  \n",
              "6   https://www.mercadolivre.com.br/smart-tv-samsu...  R$ 1.599,90  \n",
              "7   https://www.mercadolivre.com.br/smart-tv-samsu...  R$ 3.229,90  \n",
              "8   https://www.mercadolivre.com.br/smart-tv-samsu...  R$ 1.299,90  \n",
              "9   https://www.mercadolivre.com.br/smart-tv-samsu...  R$ 1.999,90  \n",
              "10  https://produto.mercadolivre.com.br/MLB-169920...  R$ 1.999,90  \n",
              "11  https://produto.mercadolivre.com.br/MLB-171471...  R$ 2.975,04  \n",
              "12  https://produto.mercadolivre.com.br/MLB-159036...  R$ 2.599,90  \n",
              "13  https://produto.mercadolivre.com.br/MLB-183327...  R$ 1.499,90  \n",
              "14  https://produto.mercadolivre.com.br/MLB-171471...  R$ 3.099,90  \n",
              "15  https://produto.mercadolivre.com.br/MLB-179842...  R$ 1.512,60  \n",
              "16  https://produto.mercadolivre.com.br/MLB-162429...  R$ 2.280,04  \n",
              "17  https://produto.mercadolivre.com.br/MLB-183263...  R$ 2.839,90  \n",
              "18  https://produto.mercadolivre.com.br/MLB-179841...  R$ 1.490,48  \n",
              "19  https://produto.mercadolivre.com.br/MLB-170178...  R$ 2.230,19  "
            ],
            "text/html": [
              "\n",
              "  <div id=\"df-ae1d7f3d-c914-4b28-aa81-360220d873ab\">\n",
              "    <div class=\"colab-df-container\">\n",
              "      <div>\n",
              "<style scoped>\n",
              "    .dataframe tbody tr th:only-of-type {\n",
              "        vertical-align: middle;\n",
              "    }\n",
              "\n",
              "    .dataframe tbody tr th {\n",
              "        vertical-align: top;\n",
              "    }\n",
              "\n",
              "    .dataframe thead th {\n",
              "        text-align: right;\n",
              "    }\n",
              "</style>\n",
              "<table border=\"1\" class=\"dataframe\">\n",
              "  <thead>\n",
              "    <tr style=\"text-align: right;\">\n",
              "      <th></th>\n",
              "      <th>tittle</th>\n",
              "      <th>link</th>\n",
              "      <th>price</th>\n",
              "    </tr>\n",
              "  </thead>\n",
              "  <tbody>\n",
              "    <tr>\n",
              "      <th>0</th>\n",
              "      <td>Tv 32 Samsung Smart The Frame Qled Full Hd Qn3...</td>\n",
              "      <td>https://produto.mercadolivre.com.br/MLB-288908...</td>\n",
              "      <td>R$ 2.370,76</td>\n",
              "    </tr>\n",
              "    <tr>\n",
              "      <th>1</th>\n",
              "      <td>Tv 43 Samsung Smart Gaming Neo Qlad 4k Qn43qn9...</td>\n",
              "      <td>https://produto.mercadolivre.com.br/MLB-290730...</td>\n",
              "      <td>R$ 4.690,99</td>\n",
              "    </tr>\n",
              "    <tr>\n",
              "      <th>2</th>\n",
              "      <td>Tv 55 Samsung Smart Gaming Neo Qled 4k</td>\n",
              "      <td>https://produto.mercadolivre.com.br/MLB-290731...</td>\n",
              "      <td>R$ 7.560,99</td>\n",
              "    </tr>\n",
              "    <tr>\n",
              "      <th>3</th>\n",
              "      <td>Tv 32 Samsung Smart The Frame Qled Full Hd Qn3...</td>\n",
              "      <td>https://produto.mercadolivre.com.br/MLB-288905...</td>\n",
              "      <td>R$ 2.450,99</td>\n",
              "    </tr>\n",
              "    <tr>\n",
              "      <th>4</th>\n",
              "      <td>Tv 43 Samsung Smart Gaming Neo Qlad 4k Qn43qn9...</td>\n",
              "      <td>https://produto.mercadolivre.com.br/MLB-290727...</td>\n",
              "      <td>R$ 4.550,11</td>\n",
              "    </tr>\n",
              "    <tr>\n",
              "      <th>5</th>\n",
              "      <td>Tv 55 Samsung Smart Gaming Neo Qled 4k</td>\n",
              "      <td>https://produto.mercadolivre.com.br/MLB-290732...</td>\n",
              "      <td>R$ 7.320,66</td>\n",
              "    </tr>\n",
              "    <tr>\n",
              "      <th>6</th>\n",
              "      <td>Smart TV Samsung BET-B LH32BETBLGGXZD LED HD 32\"</td>\n",
              "      <td>https://www.mercadolivre.com.br/smart-tv-samsu...</td>\n",
              "      <td>R$ 1.599,90</td>\n",
              "    </tr>\n",
              "    <tr>\n",
              "      <th>7</th>\n",
              "      <td>Smart TV Samsung BET-M LH43BETMLGGXZD LED Full...</td>\n",
              "      <td>https://www.mercadolivre.com.br/smart-tv-samsu...</td>\n",
              "      <td>R$ 3.229,90</td>\n",
              "    </tr>\n",
              "    <tr>\n",
              "      <th>8</th>\n",
              "      <td>Smart TV Samsung UN32T4300AGXZD LED HD 32\"</td>\n",
              "      <td>https://www.mercadolivre.com.br/smart-tv-samsu...</td>\n",
              "      <td>R$ 1.299,90</td>\n",
              "    </tr>\n",
              "    <tr>\n",
              "      <th>9</th>\n",
              "      <td>Smart TV Samsung Series 5 UN43T5300AGXZD LED F...</td>\n",
              "      <td>https://www.mercadolivre.com.br/smart-tv-samsu...</td>\n",
              "      <td>R$ 1.999,90</td>\n",
              "    </tr>\n",
              "    <tr>\n",
              "      <th>10</th>\n",
              "      <td>Smart Tv Samsung 32 Hd Wi-fi Hdmi Usb Lh32betb...</td>\n",
              "      <td>https://produto.mercadolivre.com.br/MLB-169920...</td>\n",
              "      <td>R$ 1.999,90</td>\n",
              "    </tr>\n",
              "    <tr>\n",
              "      <th>11</th>\n",
              "      <td>Smart Tv Samsung 43 Fdh Hdmi Usb Wi-fi Lh43bet...</td>\n",
              "      <td>https://produto.mercadolivre.com.br/MLB-171471...</td>\n",
              "      <td>R$ 2.975,04</td>\n",
              "    </tr>\n",
              "    <tr>\n",
              "      <th>12</th>\n",
              "      <td>Smart Tv Led 43 Polegadas Full Hd Samsung Hdr ...</td>\n",
              "      <td>https://produto.mercadolivre.com.br/MLB-159036...</td>\n",
              "      <td>R$ 2.599,90</td>\n",
              "    </tr>\n",
              "    <tr>\n",
              "      <th>13</th>\n",
              "      <td>Smart Tv Led  32'' Hd Samsung 32t4300 2 Hdmi 1...</td>\n",
              "      <td>https://produto.mercadolivre.com.br/MLB-183327...</td>\n",
              "      <td>R$ 1.499,90</td>\n",
              "    </tr>\n",
              "    <tr>\n",
              "      <th>14</th>\n",
              "      <td>Smart Tv Samsung 43 Fdh Hdmi Usb Wi-fi Lh43bet...</td>\n",
              "      <td>https://produto.mercadolivre.com.br/MLB-171471...</td>\n",
              "      <td>R$ 3.099,90</td>\n",
              "    </tr>\n",
              "    <tr>\n",
              "      <th>15</th>\n",
              "      <td>Smart Tv 32 Polegadas Samsung Lh32betblggxzd W...</td>\n",
              "      <td>https://produto.mercadolivre.com.br/MLB-179842...</td>\n",
              "      <td>R$ 1.512,60</td>\n",
              "    </tr>\n",
              "    <tr>\n",
              "      <th>16</th>\n",
              "      <td>Smart Tv Samsung 43 Polegadas Full Hd Hdr Un43...</td>\n",
              "      <td>https://produto.mercadolivre.com.br/MLB-162429...</td>\n",
              "      <td>R$ 2.280,04</td>\n",
              "    </tr>\n",
              "    <tr>\n",
              "      <th>17</th>\n",
              "      <td>Smart Tv Led 43  Samsung Lh43betmlggxzd 2hdmi ...</td>\n",
              "      <td>https://produto.mercadolivre.com.br/MLB-183263...</td>\n",
              "      <td>R$ 2.839,90</td>\n",
              "    </tr>\n",
              "    <tr>\n",
              "      <th>18</th>\n",
              "      <td>Smart Tv 32'' Samsung Series 5 Lh32betblggxzd ...</td>\n",
              "      <td>https://produto.mercadolivre.com.br/MLB-179841...</td>\n",
              "      <td>R$ 1.490,48</td>\n",
              "    </tr>\n",
              "    <tr>\n",
              "      <th>19</th>\n",
              "      <td>Smart Tv Samsung Led Full Hd  43 Netflix Un43t...</td>\n",
              "      <td>https://produto.mercadolivre.com.br/MLB-170178...</td>\n",
              "      <td>R$ 2.230,19</td>\n",
              "    </tr>\n",
              "  </tbody>\n",
              "</table>\n",
              "</div>\n",
              "      <button class=\"colab-df-convert\" onclick=\"convertToInteractive('df-ae1d7f3d-c914-4b28-aa81-360220d873ab')\"\n",
              "              title=\"Convert this dataframe to an interactive table.\"\n",
              "              style=\"display:none;\">\n",
              "        \n",
              "  <svg xmlns=\"http://www.w3.org/2000/svg\" height=\"24px\"viewBox=\"0 0 24 24\"\n",
              "       width=\"24px\">\n",
              "    <path d=\"M0 0h24v24H0V0z\" fill=\"none\"/>\n",
              "    <path d=\"M18.56 5.44l.94 2.06.94-2.06 2.06-.94-2.06-.94-.94-2.06-.94 2.06-2.06.94zm-11 1L8.5 8.5l.94-2.06 2.06-.94-2.06-.94L8.5 2.5l-.94 2.06-2.06.94zm10 10l.94 2.06.94-2.06 2.06-.94-2.06-.94-.94-2.06-.94 2.06-2.06.94z\"/><path d=\"M17.41 7.96l-1.37-1.37c-.4-.4-.92-.59-1.43-.59-.52 0-1.04.2-1.43.59L10.3 9.45l-7.72 7.72c-.78.78-.78 2.05 0 2.83L4 21.41c.39.39.9.59 1.41.59.51 0 1.02-.2 1.41-.59l7.78-7.78 2.81-2.81c.8-.78.8-2.07 0-2.86zM5.41 20L4 18.59l7.72-7.72 1.47 1.35L5.41 20z\"/>\n",
              "  </svg>\n",
              "      </button>\n",
              "      \n",
              "  <style>\n",
              "    .colab-df-container {\n",
              "      display:flex;\n",
              "      flex-wrap:wrap;\n",
              "      gap: 12px;\n",
              "    }\n",
              "\n",
              "    .colab-df-convert {\n",
              "      background-color: #E8F0FE;\n",
              "      border: none;\n",
              "      border-radius: 50%;\n",
              "      cursor: pointer;\n",
              "      display: none;\n",
              "      fill: #1967D2;\n",
              "      height: 32px;\n",
              "      padding: 0 0 0 0;\n",
              "      width: 32px;\n",
              "    }\n",
              "\n",
              "    .colab-df-convert:hover {\n",
              "      background-color: #E2EBFA;\n",
              "      box-shadow: 0px 1px 2px rgba(60, 64, 67, 0.3), 0px 1px 3px 1px rgba(60, 64, 67, 0.15);\n",
              "      fill: #174EA6;\n",
              "    }\n",
              "\n",
              "    [theme=dark] .colab-df-convert {\n",
              "      background-color: #3B4455;\n",
              "      fill: #D2E3FC;\n",
              "    }\n",
              "\n",
              "    [theme=dark] .colab-df-convert:hover {\n",
              "      background-color: #434B5C;\n",
              "      box-shadow: 0px 1px 3px 1px rgba(0, 0, 0, 0.15);\n",
              "      filter: drop-shadow(0px 1px 2px rgba(0, 0, 0, 0.3));\n",
              "      fill: #FFFFFF;\n",
              "    }\n",
              "  </style>\n",
              "\n",
              "      <script>\n",
              "        const buttonEl =\n",
              "          document.querySelector('#df-ae1d7f3d-c914-4b28-aa81-360220d873ab button.colab-df-convert');\n",
              "        buttonEl.style.display =\n",
              "          google.colab.kernel.accessAllowed ? 'block' : 'none';\n",
              "\n",
              "        async function convertToInteractive(key) {\n",
              "          const element = document.querySelector('#df-ae1d7f3d-c914-4b28-aa81-360220d873ab');\n",
              "          const dataTable =\n",
              "            await google.colab.kernel.invokeFunction('convertToInteractive',\n",
              "                                                     [key], {});\n",
              "          if (!dataTable) return;\n",
              "\n",
              "          const docLinkHtml = 'Like what you see? Visit the ' +\n",
              "            '<a target=\"_blank\" href=https://colab.research.google.com/notebooks/data_table.ipynb>data table notebook</a>'\n",
              "            + ' to learn more about interactive tables.';\n",
              "          element.innerHTML = '';\n",
              "          dataTable['output_type'] = 'display_data';\n",
              "          await google.colab.output.renderOutput(dataTable, element);\n",
              "          const docLink = document.createElement('div');\n",
              "          docLink.innerHTML = docLinkHtml;\n",
              "          element.appendChild(docLink);\n",
              "        }\n",
              "      </script>\n",
              "    </div>\n",
              "  </div>\n",
              "  "
            ]
          },
          "metadata": {},
          "execution_count": 19
        }
      ]
    },
    {
      "cell_type": "code",
      "source": [
        "products.to_excel('products.xlsx',index=False)"
      ],
      "metadata": {
        "id": "fBwjGFqR1sqj"
      },
      "execution_count": 16,
      "outputs": []
    }
  ]
}