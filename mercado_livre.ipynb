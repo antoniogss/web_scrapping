{
  "nbformat": 4,
  "nbformat_minor": 0,
  "metadata": {
    "colab": {
      "provenance": [],
      "authorship_tag": "ABX9TyP6UBpPIFxupaYiDy8vLIUC",
      "include_colab_link": true
    },
    "kernelspec": {
      "name": "python3",
      "display_name": "Python 3"
    },
    "language_info": {
      "name": "python"
    }
  },
  "cells": [
    {
      "cell_type": "markdown",
      "metadata": {
        "id": "view-in-github",
        "colab_type": "text"
      },
      "source": [
        "<a href=\"https://colab.research.google.com/github/antoniogss/web_scrapping/blob/main/mercado_livre.ipynb\" target=\"_parent\"><img src=\"https://colab.research.google.com/assets/colab-badge.svg\" alt=\"Open In Colab\"/></a>"
      ]
    },
    {
      "cell_type": "code",
      "execution_count": 1,
      "metadata": {
        "id": "tRYu6P4a5ccj"
      },
      "outputs": [],
      "source": [
        "import requests as rq\n",
        "from bs4 import BeautifulSoup as bs\n",
        "import pandas as pd"
      ]
    },
    {
      "cell_type": "code",
      "source": [
        "url_base = 'https://lista.mercadolivre.com.br/'\n",
        "product_name = input('What product do you desire? ')\n",
        "response = rq.get(url_base + product_name)\n",
        "site  = bs(response.text, 'html.parser')"
      ],
      "metadata": {
        "colab": {
          "base_uri": "https://localhost:8080/"
        },
        "id": "4VTtoOO2oKOi",
        "outputId": "20107f75-9f5f-4b64-9a92-bf75f6d291e2"
      },
      "execution_count": 64,
      "outputs": [
        {
          "name": "stdout",
          "output_type": "stream",
          "text": [
            "What product do you desire? tv oled samsung\n"
          ]
        }
      ]
    },
    {
      "cell_type": "markdown",
      "source": [
        "#The first product"
      ],
      "metadata": {
        "id": "RXFjBfXP8iKX"
      }
    },
    {
      "cell_type": "code",
      "source": [
        "# print(site.prettify())"
      ],
      "metadata": {
        "id": "Lr1zupWEq20d"
      },
      "execution_count": 65,
      "outputs": []
    },
    {
      "cell_type": "code",
      "source": [
        "product = site.find('div',attrs={'class':'andes-card andes-card--flat ' +\n",
        "                                 'andes-card--default ui-search-result ' +\n",
        "                                 'shops__cardStyles ui-search-result--core ' +\n",
        "                                 'andes-card--padding-default ' +\n",
        "                                 'andes-card--animated'})"
      ],
      "metadata": {
        "id": "vI7k_bMHto_T"
      },
      "execution_count": 66,
      "outputs": []
    },
    {
      "cell_type": "code",
      "source": [
        "# print(product.prettify())"
      ],
      "metadata": {
        "id": "2bJayzdfu948"
      },
      "execution_count": null,
      "outputs": []
    },
    {
      "cell_type": "code",
      "source": [
        "tittle = product.find('h2',attrs={'class':'ui-search-item__title ' +\n",
        "                                          'ui-search-item__group__element ' +\n",
        "                                          'shops__items-group-details ' +\n",
        "                                          'shops__item-title'}) "
      ],
      "metadata": {
        "id": "Na-cw7M8wBDI"
      },
      "execution_count": 68,
      "outputs": []
    },
    {
      "cell_type": "code",
      "source": [
        "print('Tittle of the first product:', tittle.text)"
      ],
      "metadata": {
        "colab": {
          "base_uri": "https://localhost:8080/"
        },
        "id": "S3zGlY4Kw5_h",
        "outputId": "e64c01a2-255d-425b-aab1-7333e88ead97"
      },
      "execution_count": 69,
      "outputs": [
        {
          "output_type": "stream",
          "name": "stdout",
          "text": [
            "Tittle of the first product: Tv 32 Samsung Smart The Frame Qled Full Hd Qn32ls03bbgxz\n"
          ]
        }
      ]
    },
    {
      "cell_type": "code",
      "source": [
        "link = product.find('a',attrs={'class':'ui-search-link'})"
      ],
      "metadata": {
        "id": "31k4nGSpxjTl"
      },
      "execution_count": 70,
      "outputs": []
    },
    {
      "cell_type": "code",
      "source": [
        "print('Link of the first product:', link['href'])"
      ],
      "metadata": {
        "colab": {
          "base_uri": "https://localhost:8080/"
        },
        "id": "5es3Bb0ex0Io",
        "outputId": "d4aa661e-4a3a-4acd-dcad-bc216606a950"
      },
      "execution_count": 71,
      "outputs": [
        {
          "output_type": "stream",
          "name": "stdout",
          "text": [
            "Link of the first product: https://produto.mercadolivre.com.br/MLB-2889086110-tv-32-samsung-smart-the-frame-qled-full-hd-qn32ls03bbgxz-_JM#position=7&search_layout=grid&type=item&tracking_id=10973bd0-57d5-4c8f-bf3e-3a0b118cc188\n"
          ]
        }
      ]
    },
    {
      "cell_type": "code",
      "source": [
        "# Price - no installment\n",
        "\n",
        "price_symbol = product.find('span',attrs={'class':'price-tag-symbol'})\n",
        "price_fraction = product.find('span',attrs={'class':'price-tag-fraction'})\n",
        "decimal_sep = product.find('span',attrs={'class':'price-tag-decimal-separator'})\n",
        "price_cents = product.find('span',attrs={'class':'price-tag-cents'})"
      ],
      "metadata": {
        "id": "ueMDD97v3O8J"
      },
      "execution_count": 72,
      "outputs": []
    },
    {
      "cell_type": "code",
      "source": [
        "print('Price of the first product:',price_symbol.text +\n",
        "                              ' ' +\n",
        "                              price_fraction.text +\n",
        "                              decimal_sep.text +\n",
        "                              price_cents.text)"
      ],
      "metadata": {
        "colab": {
          "base_uri": "https://localhost:8080/"
        },
        "id": "SX20UEbr4or1",
        "outputId": "4d012cc8-9a95-4c37-d436-982db0d035f0"
      },
      "execution_count": 73,
      "outputs": [
        {
          "output_type": "stream",
          "name": "stdout",
          "text": [
            "Price of the first product: R$ 2.370,76\n"
          ]
        }
      ]
    },
    {
      "cell_type": "markdown",
      "source": [
        "#All the products"
      ],
      "metadata": {
        "id": "P2XIFde08V_i"
      }
    },
    {
      "cell_type": "code",
      "source": [
        "products = site.findAll('div',attrs={'class':'andes-card andes-card--flat ' +\n",
        "                                    'andes-card--default ui-search-result ' +\n",
        "                                    'shops__cardStyles ui-search-result--core ' +\n",
        "                                    'andes-card--padding-default ' +\n",
        "                                    'andes-card--animated'})\n",
        "\n",
        "for product in products:\n",
        "\n",
        "  tittle = product.find('h2',attrs={'class':'ui-search-item__title ' +\n",
        "                                            'ui-search-item__group__element ' +\n",
        "                                            'shops__items-group-details ' +\n",
        "                                            'shops__item-title'}) \n",
        "\n",
        "  link = product.find('a',attrs={'class':'ui-search-link'})\n",
        "  price_symbol = product.find('span',attrs={'class':'price-tag-symbol'})\n",
        "  price_fraction = product.find('span',attrs={'class':'price-tag-fraction'})\n",
        "  decimal_sep = product.find('span',attrs={'class':'price-tag-decimal-separator'})\n",
        "  price_cents = product.find('span',attrs={'class':'price-tag-cents'})\n",
        "\n",
        "  print('Tittle of the product:', tittle.text)\n",
        "  print('Link of the product:', link['href'])\n",
        "\n",
        "  if (price_cents):\n",
        "    print('Price of the product:',price_symbol.text +\n",
        "                                ' ' +\n",
        "                                price_fraction.text +\n",
        "                                decimal_sep.text +\n",
        "                                price_cents.text)\n",
        "  else:\n",
        "    print('Price of the product:',price_symbol.text +\n",
        "                                ' ' +\n",
        "                                price_fraction.text)\n",
        "    \n",
        "  print('\\n')"
      ],
      "metadata": {
        "colab": {
          "base_uri": "https://localhost:8080/"
        },
        "id": "yCxRb_Ua6kBS",
        "outputId": "983a6d50-8ace-42ee-9298-79478b6c8586"
      },
      "execution_count": 149,
      "outputs": [
        {
          "output_type": "stream",
          "name": "stdout",
          "text": [
            "Tittle of the product: Tv 32 Samsung Smart The Frame Qled Full Hd Qn32ls03bbgxz\n",
            "Link of the product: https://produto.mercadolivre.com.br/MLB-2889086110-tv-32-samsung-smart-the-frame-qled-full-hd-qn32ls03bbgxz-_JM#position=7&search_layout=grid&type=item&tracking_id=10973bd0-57d5-4c8f-bf3e-3a0b118cc188\n",
            "Price of the product: R$ 2.370,76\n",
            "\n",
            "\n",
            "Tittle of the product: Tv 43 Samsung Smart Gaming Neo Qlad 4k Qn43qn90bagxzd\n",
            "Link of the product: https://produto.mercadolivre.com.br/MLB-2907301893-tv-43-samsung-smart-gaming-neo-qlad-4k-qn43qn90bagxzd-_JM#position=8&search_layout=grid&type=item&tracking_id=10973bd0-57d5-4c8f-bf3e-3a0b118cc188\n",
            "Price of the product: R$ 4.690,99\n",
            "\n",
            "\n",
            "Tittle of the product: Tv 55 Samsung Smart Gaming Neo Qled 4k\n",
            "Link of the product: https://produto.mercadolivre.com.br/MLB-2907314400-tv-55-samsung-smart-gaming-neo-qled-4k-_JM#position=9&search_layout=grid&type=item&tracking_id=10973bd0-57d5-4c8f-bf3e-3a0b118cc188\n",
            "Price of the product: R$ 7.560,99\n",
            "\n",
            "\n",
            "Tittle of the product: Tv 43 Samsung Smart Gaming Neo Qlad 4k Qn43qn90bagxzd\n",
            "Link of the product: https://produto.mercadolivre.com.br/MLB-2907276776-tv-43-samsung-smart-gaming-neo-qlad-4k-qn43qn90bagxzd-_JM#position=10&search_layout=grid&type=item&tracking_id=10973bd0-57d5-4c8f-bf3e-3a0b118cc188\n",
            "Price of the product: R$ 4.550,11\n",
            "\n",
            "\n",
            "Tittle of the product: Tv 32 Samsung Smart The Frame Qled Full Hd Qn32ls03bbgxz\n",
            "Link of the product: https://produto.mercadolivre.com.br/MLB-2889055123-tv-32-samsung-smart-the-frame-qled-full-hd-qn32ls03bbgxz-_JM#position=11&search_layout=grid&type=item&tracking_id=10973bd0-57d5-4c8f-bf3e-3a0b118cc188\n",
            "Price of the product: R$ 2.450,99\n",
            "\n",
            "\n",
            "Tittle of the product: Tv 55 Samsung Smart Gaming Neo Qled 4k\n",
            "Link of the product: https://produto.mercadolivre.com.br/MLB-2907325201-tv-55-samsung-smart-gaming-neo-qled-4k-_JM#position=12&search_layout=grid&type=item&tracking_id=10973bd0-57d5-4c8f-bf3e-3a0b118cc188\n",
            "Price of the product: R$ 7.320,66\n",
            "\n",
            "\n",
            "Tittle of the product: Smart TV Samsung BET-B LH32BETBLGGXZD LED HD 32\"\n",
            "Link of the product: https://www.mercadolivre.com.br/smart-tv-samsung-bet-b-lh32betblggxzd-led-hd-32/p/MLB15828219?pdp_filters=category:MLB1002#searchVariation=MLB15828219&position=1&search_layout=grid&type=product&tracking_id=10973bd0-57d5-4c8f-bf3e-3a0b118cc188\n",
            "Price of the product: R$ 1.599,90\n",
            "\n",
            "\n",
            "Tittle of the product: Smart TV Samsung BET-M LH43BETMLGGXZD LED Full HD 43\" 110V/220V\n",
            "Link of the product: https://www.mercadolivre.com.br/smart-tv-samsung-bet-m-lh43betmlggxzd-led-full-hd-43-110v220v/p/MLB15911487?pdp_filters=category:MLB1002#searchVariation=MLB15911487&position=2&search_layout=grid&type=product&tracking_id=10973bd0-57d5-4c8f-bf3e-3a0b118cc188\n",
            "Price of the product: R$ 3.229,90\n",
            "\n",
            "\n",
            "Tittle of the product: Smart TV Samsung UN32T4300AGXZD LED HD 32\"\n",
            "Link of the product: https://www.mercadolivre.com.br/smart-tv-samsung-un32t4300agxzd-led-hd-32/p/MLB15822520?pdp_filters=category:MLB1002#searchVariation=MLB15822520&position=3&search_layout=grid&type=product&tracking_id=10973bd0-57d5-4c8f-bf3e-3a0b118cc188\n",
            "Price of the product: R$ 1.999,90\n",
            "\n",
            "\n",
            "Tittle of the product: Smart TV Samsung Series 5 UN43T5300AGXZD LED Full HD 43\" 100V/240V\n",
            "Link of the product: https://www.mercadolivre.com.br/smart-tv-samsung-series-5-un43t5300agxzd-led-full-hd-43-100v240v/p/MLB15796379?pdp_filters=category:MLB1002#searchVariation=MLB15796379&position=4&search_layout=grid&type=product&tracking_id=10973bd0-57d5-4c8f-bf3e-3a0b118cc188\n",
            "Price of the product: R$ 1.899,11\n",
            "\n",
            "\n",
            "Tittle of the product: Smart Tv Samsung 32 Hd Wi-fi Hdmi Usb Lh32betblggxzd\n",
            "Link of the product: https://produto.mercadolivre.com.br/MLB-1699205846-smart-tv-samsung-32-hd-wi-fi-hdmi-usb-lh32betblggxzd-_JM#position=13&search_layout=grid&type=item&tracking_id=10973bd0-57d5-4c8f-bf3e-3a0b118cc188\n",
            "Price of the product: R$ 1.999,90\n",
            "\n",
            "\n",
            "Tittle of the product: Smart Tv Samsung 43 Fdh Hdmi Usb Wi-fi Lh43betmlggxzd\n",
            "Link of the product: https://produto.mercadolivre.com.br/MLB-1714715486-smart-tv-samsung-43-fdh-hdmi-usb-wi-fi-lh43betmlggxzd-_JM#position=14&search_layout=grid&type=item&tracking_id=10973bd0-57d5-4c8f-bf3e-3a0b118cc188\n",
            "Price of the product: R$ 2.975,04\n",
            "\n",
            "\n",
            "Tittle of the product: Smart Tv Led 43 Polegadas Full Hd Samsung Hdr Wifi Hdmi Usb\n",
            "Link of the product: https://produto.mercadolivre.com.br/MLB-1590369636-smart-tv-led-43-polegadas-full-hd-samsung-hdr-wifi-hdmi-usb-_JM#position=15&search_layout=grid&type=item&tracking_id=10973bd0-57d5-4c8f-bf3e-3a0b118cc188\n",
            "Price of the product: R$ 2.599,90\n",
            "\n",
            "\n",
            "Tittle of the product: Smart Tv Led  32'' Hd Samsung 32t4300 2 Hdmi 1 Usb Wi-fi\n",
            "Link of the product: https://produto.mercadolivre.com.br/MLB-1833275835-smart-tv-led-32-hd-samsung-32t4300-2-hdmi-1-usb-wi-fi-_JM#position=16&search_layout=grid&type=item&tracking_id=10973bd0-57d5-4c8f-bf3e-3a0b118cc188\n",
            "Price of the product: R$ 1.499,90\n",
            "\n",
            "\n",
            "Tittle of the product: Smart Tv Samsung 43 Fdh Hdmi Usb Wi-fi Lh43betmlggxzd\n",
            "Link of the product: https://produto.mercadolivre.com.br/MLB-1714719219-smart-tv-samsung-43-fdh-hdmi-usb-wi-fi-lh43betmlggxzd-_JM#position=17&search_layout=grid&type=item&tracking_id=10973bd0-57d5-4c8f-bf3e-3a0b118cc188\n",
            "Price of the product: R$ 3.099,90\n",
            "\n",
            "\n",
            "Tittle of the product: Smart Tv 32 Polegadas Samsung Lh32betblggxzd Wifi Hd Usb\n",
            "Link of the product: https://produto.mercadolivre.com.br/MLB-1798426198-smart-tv-32-polegadas-samsung-lh32betblggxzd-wifi-hd-usb-_JM#position=18&search_layout=grid&type=item&tracking_id=10973bd0-57d5-4c8f-bf3e-3a0b118cc188\n",
            "Price of the product: R$ 1.512,60\n",
            "\n",
            "\n",
            "Tittle of the product: Smart Tv Samsung 43 Polegadas Full Hd Hdr Un43t5300agxzd\n",
            "Link of the product: https://produto.mercadolivre.com.br/MLB-1624292268-smart-tv-samsung-43-polegadas-full-hd-hdr-un43t5300agxzd-_JM#position=19&search_layout=grid&type=item&tracking_id=10973bd0-57d5-4c8f-bf3e-3a0b118cc188\n",
            "Price of the product: R$ 2.280,04\n",
            "\n",
            "\n",
            "Tittle of the product: Smart Tv Led 43  Samsung Lh43betmlggxzd 2hdmi 1usb Wifi\n",
            "Link of the product: https://produto.mercadolivre.com.br/MLB-1832638046-smart-tv-led-43-samsung-lh43betmlggxzd-2hdmi-1usb-wifi-_JM#position=20&search_layout=grid&type=item&tracking_id=10973bd0-57d5-4c8f-bf3e-3a0b118cc188\n",
            "Price of the product: R$ 2.839,90\n",
            "\n",
            "\n",
            "Tittle of the product: Smart Tv 32'' Samsung Series 5 Lh32betblggxzd Led Hd \n",
            "Link of the product: https://produto.mercadolivre.com.br/MLB-1798417836-smart-tv-32-samsung-series-5-lh32betblggxzd-led-hd-_JM#position=21&search_layout=grid&type=item&tracking_id=10973bd0-57d5-4c8f-bf3e-3a0b118cc188\n",
            "Price of the product: R$ 1.490,48\n",
            "\n",
            "\n",
            "Tittle of the product: Smart Tv Samsung Led Full Hd  43 Netflix Un43t5300agxzd\n",
            "Link of the product: https://produto.mercadolivre.com.br/MLB-1701783396-smart-tv-samsung-led-full-hd-43-netflix-un43t5300agxzd-_JM#position=22&search_layout=grid&type=item&tracking_id=10973bd0-57d5-4c8f-bf3e-3a0b118cc188\n",
            "Price of the product: R$ 2.230,19\n",
            "\n",
            "\n",
            "Tittle of the product: Smart Tv 32´ Samsung Smart Business Usb Wi-fi Lh32betblggxzd\n",
            "Link of the product: https://produto.mercadolivre.com.br/MLB-1798419724-smart-tv-32-samsung-smart-business-usb-wi-fi-lh32betblggxzd-_JM#position=23&search_layout=grid&type=item&tracking_id=10973bd0-57d5-4c8f-bf3e-3a0b118cc188\n",
            "Price of the product: R$ 1.550,99\n",
            "\n",
            "\n",
            "Tittle of the product: Smart Tv Samsung 32 Led Wi-fi Hdmi Usb - Lh32betblggxzd\n",
            "Link of the product: https://produto.mercadolivre.com.br/MLB-1640201363-smart-tv-samsung-32-led-wi-fi-hdmi-usb-lh32betblggxzd-_JM#position=24&search_layout=grid&type=item&tracking_id=10973bd0-57d5-4c8f-bf3e-3a0b118cc188\n",
            "Price of the product: R$ 1.599,90\n",
            "\n",
            "\n",
            "Tittle of the product: Smart Tv 48  Samsung Internet Led Hd Wifi Un48h4203agxzd\n",
            "Link of the product: https://produto.mercadolivre.com.br/MLB-805249588-smart-tv-48-samsung-internet-led-hd-wifi-un48h4203agxzd-_JM#position=25&search_layout=grid&type=item&tracking_id=10973bd0-57d5-4c8f-bf3e-3a0b118cc188\n",
            "Price of the product: R$ 2.750,61\n",
            "\n",
            "\n",
            "Tittle of the product: Smart Tv Led 32  Samsung Lh32betblggxzd Hd 2 Hdmi Usb Wifi\n",
            "Link of the product: https://produto.mercadolivre.com.br/MLB-1568581980-smart-tv-led-32-samsung-lh32betblggxzd-hd-2-hdmi-usb-wifi-_JM#position=26&search_layout=grid&type=item&tracking_id=10973bd0-57d5-4c8f-bf3e-3a0b118cc188\n",
            "Price of the product: R$ 1.799,90\n",
            "\n",
            "\n",
            "Tittle of the product: Smart Tv Samsung 32 Polegadas Hd Hdr Tizen Un32t4300agxzd\n",
            "Link of the product: https://produto.mercadolivre.com.br/MLB-1614063364-smart-tv-samsung-32-polegadas-hd-hdr-tizen-un32t4300agxzd-_JM#position=27&search_layout=grid&type=item&tracking_id=10973bd0-57d5-4c8f-bf3e-3a0b118cc188\n",
            "Price of the product: R$ 1.550,30\n",
            "\n",
            "\n",
            "Tittle of the product: Smart Tv Samsung 43 Polegadas Led Tizen Full Hd Wifi\n",
            "Link of the product: https://produto.mercadolivre.com.br/MLB-1576253078-smart-tv-samsung-43-polegadas-led-tizen-full-hd-wifi-_JM#position=28&search_layout=grid&type=item&tracking_id=10973bd0-57d5-4c8f-bf3e-3a0b118cc188\n",
            "Price of the product: R$ 3.205,70\n",
            "\n",
            "\n",
            "Tittle of the product: Smart TV Samsung Series Business LH65BENELGA/ZD LED 4K 65\" 100V/240V\n",
            "Link of the product: https://www.mercadolivre.com.br/smart-tv-samsung-series-business-lh65benelgazd-led-4k-65-100v240v/p/MLB15073825?pdp_filters=category:MLB1002#searchVariation=MLB15073825&position=5&search_layout=grid&type=product&tracking_id=10973bd0-57d5-4c8f-bf3e-3a0b118cc188\n",
            "Price of the product: R$ 4.799,26\n",
            "\n",
            "\n",
            "Tittle of the product: Smart TV Samsung Series Business LH55BETHVGGXZD LED 4K 55\" 100V/240V\n",
            "Link of the product: https://www.mercadolivre.com.br/smart-tv-samsung-series-business-lh55bethvggxzd-led-4k-55-100v240v/p/MLB15912271?pdp_filters=category:MLB1002#searchVariation=MLB15912271&position=6&search_layout=grid&type=product&tracking_id=10973bd0-57d5-4c8f-bf3e-3a0b118cc188\n",
            "Price of the product: R$ 3.599,92\n",
            "\n",
            "\n",
            "Tittle of the product: Smart Tv Led 43  Full Hd Samsung Lh43bet\n",
            "Link of the product: https://produto.mercadolivre.com.br/MLB-1595311243-smart-tv-led-43-full-hd-samsung-lh43bet-_JM#position=29&search_layout=grid&type=item&tracking_id=10973bd0-57d5-4c8f-bf3e-3a0b118cc188\n",
            "Price of the product: R$ 2.672,04\n",
            "\n",
            "\n",
            "Tittle of the product: Smart Tv Samsung Led Hd 32  Lh32betblggxzd\n",
            "Link of the product: https://produto.mercadolivre.com.br/MLB-1727009699-smart-tv-samsung-led-hd-32-lh32betblggxzd-_JM#position=30&search_layout=grid&type=item&tracking_id=10973bd0-57d5-4c8f-bf3e-3a0b118cc188\n",
            "Price of the product: R$ 1.605,60\n",
            "\n",
            "\n",
            "Tittle of the product: Smart Tv Samsung 50  Led Uhd 4k Borda Ultrafina Un50tu8000\n",
            "Link of the product: https://produto.mercadolivre.com.br/MLB-1509877310-smart-tv-samsung-50-led-uhd-4k-borda-ultrafina-un50tu8000-_JM#position=31&search_layout=grid&type=item&tracking_id=10973bd0-57d5-4c8f-bf3e-3a0b118cc188\n",
            "Price of the product: R$ 2.999,90\n",
            "\n",
            "\n",
            "Tittle of the product: Smart Tv Samsung 32  Led Hd Un32t4300\n",
            "Link of the product: https://produto.mercadolivre.com.br/MLB-1513728700-smart-tv-samsung-32-led-hd-un32t4300-_JM#position=32&search_layout=grid&type=item&tracking_id=10973bd0-57d5-4c8f-bf3e-3a0b118cc188\n",
            "Price of the product: R$ 1.299,90\n",
            "\n",
            "\n",
            "Tittle of the product: Smart Tv Samsung 43  Led Ultra Hd 4k Un43tu7000\n",
            "Link of the product: https://produto.mercadolivre.com.br/MLB-1801986348-smart-tv-samsung-43-led-ultra-hd-4k-un43tu7000-_JM#position=33&search_layout=grid&type=item&tracking_id=10973bd0-57d5-4c8f-bf3e-3a0b118cc188\n",
            "Price of the product: R$ 2.249,04\n",
            "\n",
            "\n",
            "Tittle of the product: Smart Tv Samsung Led 32 Wi-fi -lh32bet - Subst. Lh32benelga\n",
            "Link of the product: https://produto.mercadolivre.com.br/MLB-1565974846-smart-tv-samsung-led-32-wi-fi-lh32bet-subst-lh32benelga-_JM#position=34&search_layout=grid&type=item&tracking_id=10973bd0-57d5-4c8f-bf3e-3a0b118cc188\n",
            "Price of the product: R$ 1.549,90\n",
            "\n",
            "\n",
            "Tittle of the product: Smart Tv Samsung Qled Uhd 55  4k Qn55q70ta\n",
            "Link of the product: https://produto.mercadolivre.com.br/MLB-1559539998-smart-tv-samsung-qled-uhd-55-4k-qn55q70ta-_JM#position=35&search_layout=grid&type=item&tracking_id=10973bd0-57d5-4c8f-bf3e-3a0b118cc188\n",
            "Price of the product: R$ 4.699,90\n",
            "\n",
            "\n",
            "Tittle of the product: Smart Tv Led 32  Samsung Lh32betblggxzd Hd 2 Hdmi Usb Wifi\n",
            "Link of the product: https://produto.mercadolivre.com.br/MLB-1573691764-smart-tv-led-32-samsung-lh32betblggxzd-hd-2-hdmi-usb-wifi-_JM#position=36&search_layout=grid&type=item&tracking_id=10973bd0-57d5-4c8f-bf3e-3a0b118cc188\n",
            "Price of the product: R$ 1.799,41\n",
            "\n",
            "\n",
            "Tittle of the product: Smart Tv Samsung Led Full Hd  43 Netflix Un43t5300agxzd\n",
            "Link of the product: https://produto.mercadolivre.com.br/MLB-1701780956-smart-tv-samsung-led-full-hd-43-netflix-un43t5300agxzd-_JM#position=37&search_layout=grid&type=item&tracking_id=10973bd0-57d5-4c8f-bf3e-3a0b118cc188\n",
            "Price of the product: R$ 2.230,99\n",
            "\n",
            "\n",
            "Tittle of the product: Televisão Samsung Ln26d450g1g 26 Polegadas-lcd-não Enviamos\n",
            "Link of the product: https://produto.mercadolivre.com.br/MLB-1738453734-televiso-samsung-ln26d450g1g-26-polegadas-lcd-no-enviamos-_JM#position=38&search_layout=grid&type=item&tracking_id=10973bd0-57d5-4c8f-bf3e-3a0b118cc188\n",
            "Price of the product: R$ 690\n",
            "\n",
            "\n",
            "Tittle of the product: Módulo Wi-fi  + Cabo Tv Samsung Un40ku6300g  Curved Series 6\n",
            "Link of the product: https://produto.mercadolivre.com.br/MLB-1257945934-modulo-wi-fi-cabo-tv-samsung-un40ku6300g-curved-series-6-_JM#position=39&search_layout=grid&type=item&tracking_id=10973bd0-57d5-4c8f-bf3e-3a0b118cc188\n",
            "Price of the product: R$ 40,88\n",
            "\n",
            "\n",
            "Tittle of the product: Tv Sansung Qled 55 Polegadas Qn55q60rag Tela Quebrada\n",
            "Link of the product: https://produto.mercadolivre.com.br/MLB-1647697987-tv-sansung-qled-55-polegadas-qn55q60rag-tela-quebrada-_JM#position=40&search_layout=grid&type=item&tracking_id=10973bd0-57d5-4c8f-bf3e-3a0b118cc188\n",
            "Price of the product: R$ 999,90\n",
            "\n",
            "\n",
            "Tittle of the product: Samsung Un55b6000vm 55'' Lcd Tv Monitor, Defeito\n",
            "Link of the product: https://produto.mercadolivre.com.br/MLB-1347101582-samsung-un55b6000vm-55-lcd-tv-monitor-defeito-_JM#position=41&search_layout=grid&type=item&tracking_id=10973bd0-57d5-4c8f-bf3e-3a0b118cc188\n",
            "Price of the product: R$ 565,78\n",
            "\n",
            "\n",
            "Tittle of the product: Placa Touch Controle Sansung Ln40d550k1gxzd\n",
            "Link of the product: https://produto.mercadolivre.com.br/MLB-726546859-placa-touch-controle-sansung-ln40d550k1gxzd-_JM#position=42&search_layout=grid&type=item&tracking_id=10973bd0-57d5-4c8f-bf3e-3a0b118cc188\n",
            "Price of the product: R$ 50,85\n",
            "\n",
            "\n",
            "Tittle of the product: Smart Tv Samsung  Un43j5290agxzd Tela Quebrada\n",
            "Link of the product: https://produto.mercadolivre.com.br/MLB-1678798683-smart-tv-samsung-un43j5290agxzd-tela-quebrada-_JM#position=43&search_layout=grid&type=item&tracking_id=10973bd0-57d5-4c8f-bf3e-3a0b118cc188\n",
            "Price of the product: R$ 300,08\n",
            "\n",
            "\n",
            "Tittle of the product: Smart Tv Led 55  Da Tv Modelo  4k Hdr Un55ku6000 Tela Queb\n",
            "Link of the product: https://produto.mercadolivre.com.br/MLB-1373520878-smart-tv-led-55-da-tv-modelo-4k-hdr-un55ku6000-tela-queb-_JM#position=44&search_layout=grid&type=item&tracking_id=10973bd0-57d5-4c8f-bf3e-3a0b118cc188\n",
            "Price of the product: R$ 899,99\n",
            "\n",
            "\n",
            "Tittle of the product: Smart Tv 55 Pol. Led  Da Tv Modelo Un55ku6000 Tela Quebrada\n",
            "Link of the product: https://produto.mercadolivre.com.br/MLB-1069096948-smart-tv-55-pol-led-da-tv-modelo-un55ku6000-tela-quebrada-_JM#position=45&search_layout=grid&type=item&tracking_id=10973bd0-57d5-4c8f-bf3e-3a0b118cc188\n",
            "Price of the product: R$ 799,99\n",
            "\n",
            "\n"
          ]
        }
      ]
    }
  ]
}