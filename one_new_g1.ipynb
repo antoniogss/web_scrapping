{
  "nbformat": 4,
  "nbformat_minor": 0,
  "metadata": {
    "colab": {
      "provenance": [],
      "authorship_tag": "ABX9TyNnNmKpw4V49djStyVlU3Er",
      "include_colab_link": true
    },
    "kernelspec": {
      "name": "python3",
      "display_name": "Python 3"
    },
    "language_info": {
      "name": "python"
    }
  },
  "cells": [
    {
      "cell_type": "markdown",
      "metadata": {
        "id": "view-in-github",
        "colab_type": "text"
      },
      "source": [
        "<a href=\"https://colab.research.google.com/github/antoniogss/web_scrapping/blob/main/one_new_g1.ipynb\" target=\"_parent\"><img src=\"https://colab.research.google.com/assets/colab-badge.svg\" alt=\"Open In Colab\"/></a>"
      ]
    },
    {
      "cell_type": "code",
      "execution_count": 20,
      "metadata": {
        "id": "XZCITxUWNUIL"
      },
      "outputs": [],
      "source": [
        "import requests as rq\n",
        "from bs4 import BeautifulSoup as bs"
      ]
    },
    {
      "cell_type": "code",
      "source": [
        "response = rq.get('https://g1.globo.com/')\n",
        "content = response.content"
      ],
      "metadata": {
        "id": "ix7vzkXmN8hC"
      },
      "execution_count": 21,
      "outputs": []
    },
    {
      "cell_type": "code",
      "source": [
        "site  = bs(content, 'html.parser')"
      ],
      "metadata": {
        "id": "f4GU6yUnPkmj"
      },
      "execution_count": 22,
      "outputs": []
    },
    {
      "cell_type": "code",
      "source": [
        "# print(site.prettify())"
      ],
      "metadata": {
        "id": "OOXV1nmBQHwg"
      },
      "execution_count": 23,
      "outputs": []
    },
    {
      "cell_type": "code",
      "source": [
        "# HTML code\n",
        "post = site.find('div',attrs={'class':'bastian-feed-item'})\n",
        "# print(post.prettify())"
      ],
      "metadata": {
        "id": "o-vq-u8ySIat"
      },
      "execution_count": 24,
      "outputs": []
    },
    {
      "cell_type": "code",
      "source": [
        "# Tittle\n",
        "tittle = site.find('a',attrs={'class':'feed-post-link'})\n",
        "# Subtittle\n",
        "subtittle = site.find('div',attrs={'class':'feed-post-body-resumo'})"
      ],
      "metadata": {
        "id": "dpgQ5mcQUe4-"
      },
      "execution_count": 25,
      "outputs": []
    },
    {
      "cell_type": "code",
      "source": [
        "print(tittle.text)\n",
        "print('\\n')\n",
        "print(subtittle.text)"
      ],
      "metadata": {
        "colab": {
          "base_uri": "https://localhost:8080/"
        },
        "id": "8HhVvYERWxAS",
        "outputId": "a85a1cf0-5a19-43a3-8c60-f77cb824a6e1"
      },
      "execution_count": 26,
      "outputs": [
        {
          "output_type": "stream",
          "name": "stdout",
          "text": [
            "Google terá que pagar US$ 400 milhões por rastrear usuários, diz agência\n",
            "\n",
            "\n",
            "Empresa foi processada por estados americanos e fechou acordo que seria o maior já feito nos EUA.\n"
          ]
        }
      ]
    }
  ]
}