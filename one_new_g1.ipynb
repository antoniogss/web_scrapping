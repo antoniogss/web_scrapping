{
  "nbformat": 4,
  "nbformat_minor": 0,
  "metadata": {
    "colab": {
      "provenance": [],
      "authorship_tag": "ABX9TyPDAN3tSxINLHZ4DXFgRtHw",
      "include_colab_link": true
    },
    "kernelspec": {
      "name": "python3",
      "display_name": "Python 3"
    },
    "language_info": {
      "name": "python"
    }
  },
  "cells": [
    {
      "cell_type": "markdown",
      "metadata": {
        "id": "view-in-github",
        "colab_type": "text"
      },
      "source": [
        "<a href=\"https://colab.research.google.com/github/antoniogss/web_scrapping/blob/main/one_new_g1.ipynb\" target=\"_parent\"><img src=\"https://colab.research.google.com/assets/colab-badge.svg\" alt=\"Open In Colab\"/></a>"
      ]
    },
    {
      "cell_type": "code",
      "execution_count": 34,
      "metadata": {
        "id": "XZCITxUWNUIL"
      },
      "outputs": [],
      "source": [
        "import requests as rq\n",
        "from bs4 import BeautifulSoup as bs"
      ]
    },
    {
      "cell_type": "code",
      "source": [
        "response = rq.get('https://g1.globo.com/')\n",
        "content = response.content"
      ],
      "metadata": {
        "id": "ix7vzkXmN8hC"
      },
      "execution_count": 35,
      "outputs": []
    },
    {
      "cell_type": "code",
      "source": [
        "site  = bs(content, 'html.parser')"
      ],
      "metadata": {
        "id": "f4GU6yUnPkmj"
      },
      "execution_count": 36,
      "outputs": []
    },
    {
      "cell_type": "code",
      "source": [
        "# print(site.prettify())"
      ],
      "metadata": {
        "id": "OOXV1nmBQHwg"
      },
      "execution_count": 37,
      "outputs": []
    },
    {
      "cell_type": "code",
      "source": [
        "# HTML code\n",
        "post = site.find('div',attrs={'class':'feed-post-body'})\n",
        "# print(post.prettify())"
      ],
      "metadata": {
        "id": "o-vq-u8ySIat"
      },
      "execution_count": 38,
      "outputs": []
    },
    {
      "cell_type": "code",
      "source": [
        "# First post\n",
        "# Tittle\n",
        "tittle = post.find('a',attrs={'class':'feed-post-link'})\n",
        "# Subtittle\n",
        "subtittle = post.find('div',attrs={'class':'feed-post-body-resumo'})"
      ],
      "metadata": {
        "id": "dpgQ5mcQUe4-"
      },
      "execution_count": 42,
      "outputs": []
    },
    {
      "cell_type": "code",
      "source": [
        "print(tittle.text)\n",
        "print(subtittle.text)"
      ],
      "metadata": {
        "colab": {
          "base_uri": "https://localhost:8080/"
        },
        "id": "8HhVvYERWxAS",
        "outputId": "84101b89-d8c0-4e80-b8db-e127a156f700"
      },
      "execution_count": 43,
      "outputs": [
        {
          "output_type": "stream",
          "name": "stdout",
          "text": [
            "Alckmin cobra dados de desmatamento: 'Esses números já existem'\n",
            "No ano passado, relatório só foi divulgado após a COP, e omissão foi criticada.\n"
          ]
        }
      ]
    }
  ]
}